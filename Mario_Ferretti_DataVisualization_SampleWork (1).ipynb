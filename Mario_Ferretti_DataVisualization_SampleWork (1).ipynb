{
  "nbformat": 4,
  "nbformat_minor": 0,
  "metadata": {
    "colab": {
      "name": "Mario_Ferretti_DataVisualization_SampleWork.ipynb",
      "provenance": [],
      "collapsed_sections": []
    },
    "kernelspec": {
      "name": "python3",
      "display_name": "Python 3"
    }
  },
  "cells": [
    {
      "cell_type": "markdown",
      "metadata": {
        "id": "AcQWzq45yb71"
      },
      "source": [
        "In these first 5 cells I dowload a dataset I made public on Kaggle called \"Top 10 MLB players based on WAR 2010-2019\"\n",
        "\n",
        "\n",
        "\n",
        "*   This dataframe contains the top 10 players for each season based on Wins Above Replacement\n",
        "\n"
      ]
    },
    {
      "cell_type": "code",
      "metadata": {
        "id": "eeqVW3yPf9Pq",
        "colab": {
          "base_uri": "https://localhost:8080/"
        },
        "outputId": "b26599a4-2a77-44e9-82c8-521e91c49f9c"
      },
      "source": [
        "!pip install kaggle"
      ],
      "execution_count": null,
      "outputs": [
        {
          "output_type": "stream",
          "text": [
            "Requirement already satisfied: kaggle in /usr/local/lib/python3.6/dist-packages (1.5.9)\n",
            "Requirement already satisfied: slugify in /usr/local/lib/python3.6/dist-packages (from kaggle) (0.0.1)\n",
            "Requirement already satisfied: certifi in /usr/local/lib/python3.6/dist-packages (from kaggle) (2020.11.8)\n",
            "Requirement already satisfied: python-dateutil in /usr/local/lib/python3.6/dist-packages (from kaggle) (2.8.1)\n",
            "Requirement already satisfied: six>=1.10 in /usr/local/lib/python3.6/dist-packages (from kaggle) (1.15.0)\n",
            "Requirement already satisfied: tqdm in /usr/local/lib/python3.6/dist-packages (from kaggle) (4.41.1)\n",
            "Requirement already satisfied: requests in /usr/local/lib/python3.6/dist-packages (from kaggle) (2.23.0)\n",
            "Requirement already satisfied: urllib3 in /usr/local/lib/python3.6/dist-packages (from kaggle) (1.24.3)\n",
            "Requirement already satisfied: python-slugify in /usr/local/lib/python3.6/dist-packages (from kaggle) (4.0.1)\n",
            "Requirement already satisfied: idna<3,>=2.5 in /usr/local/lib/python3.6/dist-packages (from requests->kaggle) (2.10)\n",
            "Requirement already satisfied: chardet<4,>=3.0.2 in /usr/local/lib/python3.6/dist-packages (from requests->kaggle) (3.0.4)\n",
            "Requirement already satisfied: text-unidecode>=1.3 in /usr/local/lib/python3.6/dist-packages (from python-slugify->kaggle) (1.3)\n"
          ],
          "name": "stdout"
        }
      ]
    },
    {
      "cell_type": "code",
      "metadata": {
        "id": "JGzbMvXYrWEp"
      },
      "source": [
        "import json\n",
        "token = {'username':'marioferretti','key':'410720b4e9e7dc5292fa04509702ba3f'}\n",
        "with open('/content/.kaggle/kaggle.json', 'w') as file:\n",
        "    json.dump(token, file)"
      ],
      "execution_count": null,
      "outputs": []
    },
    {
      "cell_type": "code",
      "metadata": {
        "colab": {
          "base_uri": "https://localhost:8080/"
        },
        "id": "Bv-iazpOrYVd",
        "outputId": "21839340-e848-4b7c-89cc-99464bb3d1be"
      },
      "source": [
        "!cp /content/.kaggle/kaggle.json ~/.kaggle/kaggle.json\n",
        "!kaggle config set -n path -v{/content}"
      ],
      "execution_count": null,
      "outputs": [
        {
          "output_type": "stream",
          "text": [
            "- path is now set to: {/content}\n"
          ],
          "name": "stdout"
        }
      ]
    },
    {
      "cell_type": "code",
      "metadata": {
        "id": "9iPW9rcZrrnZ"
      },
      "source": [
        "!chmod 600 /root/.kaggle/kaggle.json"
      ],
      "execution_count": null,
      "outputs": []
    },
    {
      "cell_type": "code",
      "metadata": {
        "id": "9kGgm4T_rwKh",
        "colab": {
          "base_uri": "https://localhost:8080/"
        },
        "outputId": "cbe29a32-b548-4bf5-d940-7db4f3e11ca7"
      },
      "source": [
        "!kaggle datasets download -d marioferretti/top-10-mlb-players-based-on-war-20102019 -p /content"
      ],
      "execution_count": null,
      "outputs": [
        {
          "output_type": "stream",
          "text": [
            "top-10-mlb-players-based-on-war-20102019.zip: Skipping, found more recently modified local copy (use --force to force download)\n"
          ],
          "name": "stdout"
        }
      ]
    },
    {
      "cell_type": "markdown",
      "metadata": {
        "id": "jA5qYGrmMBLI"
      },
      "source": [
        "Here I display the entire dataframe; the data contains the Top 10 players of each season in the MLB based on WAR from 2010-2019. \n",
        "\n",
        "Stats included:\n",
        "*   Batting Average, wRC+, WAR, OBP, Slugging%\n",
        "\n",
        "\n",
        "\n",
        "\n"
      ]
    },
    {
      "cell_type": "code",
      "metadata": {
        "id": "34xj2759jUDP",
        "outputId": "8c06f07c-e98a-48f8-9b97-37416f0ca879",
        "colab": {
          "base_uri": "https://localhost:8080/"
        }
      },
      "source": [
        "import pandas as pd\n",
        "import requests\n",
        "from io import StringIO \n",
        "\n",
        "df = pd.read_csv('FPD2.csv') \n",
        "# personal note, df stands for data frame\n",
        "pd.set_option(\"display.max_rows\", None, \"display.max_columns\", None) \n",
        "print(df)\n",
        "\n",
        "df.rename(columns = {'wRC+':'wRC'}, inplace = True)\n",
        "# print(\"\\nAfter modifying first column:\\n\", df.columns)\n",
        "\n"
      ],
      "execution_count": 81,
      "outputs": [
        {
          "output_type": "stream",
          "text": [
            "    Year               Name League  Games    AVG  wRC+   WAR    OBP    SLG\n",
            "0   2019         Mike Trout     AL    134  0.291   180   8.6  0.438  0.645\n",
            "1   2019       Alex Bregman     AL    156  0.296   168   8.5  0.423  0.592\n",
            "2   2019   Christian Yelich     NL    130  0.329   174   7.8  0.429  0.671\n",
            "3   2019     Cody Bellinger     NL    156  0.305   162   7.8  0.406  0.629\n",
            "4   2019      Marcus Semien     AL    162  0.285   137   7.6  0.369  0.522\n",
            "5   2019        Ketel Marte     NL    144  0.329   150   7.1  0.389  0.592\n",
            "6   2019     Anthony Rendon     AL    146  0.319   154   7.0  0.412  0.598\n",
            "7   2019    Xander Bogaerts     AL    155  0.309   141   6.8  0.384  0.555\n",
            "8   2019       Mookie Betts     AL    150  0.295   135   6.6  0.391  0.524\n",
            "9   2019    George Springer     AL    122  0.292   156   6.5  0.383  0.591\n",
            "10  2018       Mookie Betts     AL    136  0.346   185  10.4  0.438  0.640\n",
            "11  2018         Mike Trout     AL    140  0.312   190   9.8  0.460  0.628\n",
            "12  2018       Jose Ramirez     AL    157  0.270   146   8.0  0.387  0.552\n",
            "13  2018   Christian Yelich     NL    147  0.326   166   7.6  0.402  0.598\n",
            "14  2018   Francisco Lindor     AL    158  0.277   130   7.6  0.352  0.519\n",
            "15  2018       Alex Bregman     AL    157  0.286   156   7.6  0.394  0.532\n",
            "16  2018       Matt Chapman     AL    145  0.278   138   6.6  0.356  0.508\n",
            "17  2018     Anthony Rendon     NL    136  0.308   139   6.2  0.374  0.535\n",
            "18  2018      Manny Machado     NL    162  0.297   140   6.2  0.367  0.538\n",
            "19  2018      J.D. Martinez     AL    150  0.330   170   5.9  0.402  0.629\n",
            "20  2017        Aaron Judge     AL    155  0.284   174   8.3  0.422  0.627\n",
            "21  2017        Jose Altuve     AL    153  0.346   160   7.6  0.410  0.547\n",
            "22  2017  Giancarlo Stanton     NL    159  0.281   158   7.3  0.376  0.631\n",
            "23  2017         Mike Trout     AL    114  0.306   180   6.8  0.442  0.629\n",
            "24  2017        Kris Bryant     NL    151  0.295   147   6.7  0.409  0.537\n",
            "25  2017     Anthony Rendon     NL    147  0.301   141   6.7  0.403  0.533\n",
            "26  2017   Charlie Blackmon     NL    159  0.331   142   6.6  0.399  0.601\n",
            "27  2017       Jose Ramirez     AL    152  0.318   146   6.5  0.374  0.583\n",
            "28  2017         Joey Votto     NL    162  0.320   163   6.5  0.454  0.578\n",
            "29  2017         Tommy Pham     NL    128  0.306   149   6.2  0.411  0.520\n",
            "30  2016         Mike Trout     AL    159  0.315   170   9.7  0.441  0.550\n",
            "31  2016       Mookie Betts     AL    158  0.318   136   8.3  0.363  0.534\n",
            "32  2016        Kris Bryant     NL    155  0.292   148   7.9  0.385  0.554\n",
            "33  2016     Josh Donaldson     AL    155  0.284   157   7.6  0.404  0.549\n",
            "34  2016       Corey Seager     NL    157  0.308   136   6.9  0.365  0.512\n",
            "35  2016        Jose Altuve     AL    161  0.338   152   6.8  0.396  0.531\n",
            "36  2016       Buster Posey     NL    146  0.288   114   6.7  0.362  0.434\n",
            "37  2016      Manny Machado     AL    157  0.294   131   6.3  0.343  0.533\n",
            "38  2016      Robinson Cano     AL    161  0.298   139   6.3  0.350  0.533\n",
            "39  2016       Brian Dozier     AL    155  0.268   132   6.3  0.340  0.546\n",
            "40  2015       Bryce Harper     NL    153  0.330   197   9.3  0.460  0.649\n",
            "41  2015         Mike Trout     AL    159  0.299   171   9.3  0.402  0.590\n",
            "42  2015     Josh Donaldson     AL    158  0.297   154   8.7  0.371  0.568\n",
            "43  2015         Joey Votto     NL    158  0.314   174   7.3  0.459  0.541\n",
            "44  2015   Paul Goldschmidt     NL    159  0.321   163   7.2  0.435  0.570\n",
            "45  2015       Buster Posey     NL    150  0.318   135   6.8  0.379  0.470\n",
            "46  2015       A.J. Pollock     NL    157  0.315   131   6.8  0.367  0.498\n",
            "47  2015      Manny Machado     AL    162  0.286   135   6.6  0.359  0.502\n",
            "48  2015       Lorenzo Cain     AL    140  0.307   128   6.1  0.361  0.477\n",
            "49  2015        Kris Bryant     NL    151  0.275   136   6.1  0.369  0.488\n",
            "50  2014         Mike Trout     AL    157  0.287   167   8.3  0.377  0.561\n",
            "51  2014    Jonathan Lucroy     NL    153  0.301   133   8.2  0.373  0.465\n",
            "52  2014       Buster Posey     NL    147  0.311   142   7.6  0.364  0.490\n",
            "53  2014   Andrew McCutchen     NL    146  0.314   168   7.4  0.410  0.542\n",
            "54  2014  Giancarlo Stanton     NL    145  0.288   161   6.8  0.395  0.555\n",
            "55  2014   Michael Brantley     AL    156  0.327   151   6.5  0.385  0.506\n",
            "56  2014     Anthony Rendon     NL    153  0.287   130   6.4  0.351  0.473\n",
            "57  2014      Jose Bautista     AL    155  0.286   160   6.2  0.403  0.524\n",
            "58  2014      Adrian Beltre     AL    148  0.324   142   5.9  0.388  0.492\n",
            "59  2014       Carlos Gomez     NL    148  0.284   132   5.7  0.356  0.477\n",
            "60  2013         Mike Trout     AL    157  0.323   176  10.2  0.432  0.557\n",
            "61  2013     Miguel Cabrera     AL    148  0.348   193   8.6  0.442  0.636\n",
            "62  2013   Andrew McCutchen     NL    157  0.317   156   8.1  0.404  0.508\n",
            "63  2013      Yadier Molina     NL    136  0.319   133   7.8  0.359  0.477\n",
            "64  2013     Josh Donaldson     AL    158  0.301   147   7.3  0.384  0.499\n",
            "65  2013     Matt Carpenter     NL    157  0.318   146   7.2  0.392  0.481\n",
            "66  2013        Chris Davis     AL    160  0.286   167   7.1  0.370  0.634\n",
            "67  2013    Jonathan Lucroy     NL    147  0.280   116   7.0  0.340  0.455\n",
            "68  2013       Buster Posey     NL    148  0.294   135   6.9  0.371  0.450\n",
            "69  2013       Carlos Gomez     NL    147  0.284   128   6.7  0.338  0.506\n",
            "70  2012       Buster Posey     NL    148  0.336   164  10.1  0.408  0.549\n",
            "71  2012         Mike Trout     AL    139  0.326   167  10.1  0.399  0.564\n",
            "72  2012      Yadier Molina     NL    138  0.315   138   7.7  0.373  0.501\n",
            "73  2012      Robinson Cano     AL    161  0.313   149   7.3  0.379  0.550\n",
            "74  2012   Andrew McCutchen     NL    157  0.327   158   7.3  0.400  0.553\n",
            "75  2012     Miguel Cabrera     AL    161  0.330   166   7.3  0.393  0.606\n",
            "76  2012      Chase Headley     NL    161  0.286   145   7.2  0.376  0.498\n",
            "77  2012         Ryan Braun     NL    154  0.319   159   6.8  0.391  0.595\n",
            "78  2012       David Wright     NL    156  0.306   141   6.6  0.391  0.492\n",
            "79  2012      Adrian Beltre     AL    156  0.321   142   6.3  0.359  0.561\n",
            "80  2011    Jacoby Ellsbury     AL    158  0.321   150   9.5  0.447  0.608\n",
            "81  2011          Matt Kemp     NL    161  0.324   168   8.3  0.448  0.586\n",
            "82  2011      Jose Bautista     AL    149  0.302   181   8.1  0.397  0.597\n",
            "83  2011     Dustin Pedroia     AL    159  0.307   133   7.9  0.399  0.586\n",
            "84  2011        Ian Kinsler     AL    155  0.255   123   7.3  0.415  0.566\n",
            "85  2011         Ryan Braun     NL    150  0.332   171   7.1  0.412  0.547\n",
            "86  2011       Brian McCann     NL    128  0.270   122   6.9  0.410  0.548\n",
            "87  2011  Curtis Granderson     AL    156  0.262   146   6.9  0.398  0.554\n",
            "88  2011        Alex Gordon     AL    151  0.303   140   6.6  0.416  0.531\n",
            "89  2011     Miguel Cabrera     AL    161  0.344   177   6.6  0.376  0.552\n",
            "90  2010      Josh Hamilton     AL    133  0.359   175   8.4  0.411  0.633\n",
            "91  2010      Carl Crawford     AL    154  0.307   134   7.7  0.424  0.600\n",
            "92  2010      Evan Longoria     AL    151  0.294   139   7.5  0.420  0.622\n",
            "93  2010         Joey Votto     NL    150  0.324   172   6.9  0.378  0.617\n",
            "94  2010      Albert Pujols     NL    159  0.312   164   6.8  0.414  0.596\n",
            "95  2010       Brian McCann     NL    143  0.269   123   6.7  0.393  0.584\n",
            "96  2010     Ryan Zimmerman     NL    142  0.307   142   6.6  0.376  0.598\n",
            "97  2010      Jose Bautista     AL    161  0.260   165   6.5  0.381  0.568\n",
            "98  2010      Adrian Beltre     AL    154  0.321   140   6.4  0.390  0.532\n",
            "99  2010      Robinson Cano     AL    160  0.319   142   6.4  0.388  0.532\n"
          ],
          "name": "stdout"
        }
      ]
    },
    {
      "cell_type": "markdown",
      "metadata": {
        "id": "xLQ4UraSrBtg"
      },
      "source": [
        "Here I create a few things:\n",
        "\n",
        "*   Pivot table displaying the On-base Percentage for top 10 players from 2010-2019 in both the American and National League.\n",
        "*   Timeplot of the pivot table representing the year-to-year change of OBP.\n",
        "\n",
        "*   Lastly, commented out are 3 pivot tables(1 for WAR, 1 for wRC+, 1 for Games). If wanted, simply uncomment lines 6-17 and run again. \n",
        "\n",
        "\n",
        "\n"
      ]
    },
    {
      "cell_type": "code",
      "metadata": {
        "id": "GrMeHwgXsoiD",
        "colab": {
          "base_uri": "https://localhost:8080/",
          "height": 602
        },
        "outputId": "695312b2-f94d-4383-b60d-7c5e49fd3358"
      },
      "source": [
        "!pip install gapminder\n",
        "from gapminder import gapminder\n",
        "import math\n",
        "import matplotlib.pyplot as plt\n",
        "\n",
        "# WAR_pt=pd.pivot_table(df, values='WAR',\n",
        "#                       index=['Year'],\n",
        "#                       columns='League')\n",
        "# print(WAR_pt)\n",
        "# wRC_pt=pd.pivot_table(df, values='wRC',\n",
        "#                       index=['Year'],\n",
        "#                       columns='League')\n",
        "# print(wRC_pt)\n",
        "# Games_pt=pd.pivot_table(df, values='Games',\n",
        "#                       index=['Year'],\n",
        "#                       columns='League')\n",
        "# print(Games_pt)\n",
        "\n",
        "OBP_pt=pd.pivot_table(df, values='OBP',\n",
        "                      index=['Year'],\n",
        "                      columns='League')\n",
        "print(OBP_pt)\n",
        "\n",
        "plt.plot(OBP_pt['AL'], label='AL OBP')\n",
        "plt.plot(OBP_pt['NL'], label='NL OBP')\n",
        "plt.legend(loc='best')\n",
        "plt.xlabel('year')\n",
        "plt.ylabel('On-base Percentage')\n",
        "\n"
      ],
      "execution_count": null,
      "outputs": [
        {
          "output_type": "stream",
          "text": [
            "Requirement already satisfied: gapminder in /usr/local/lib/python3.6/dist-packages (0.1)\n",
            "Requirement already satisfied: pandas in /usr/local/lib/python3.6/dist-packages (from gapminder) (1.1.4)\n",
            "Requirement already satisfied: numpy>=1.15.4 in /usr/local/lib/python3.6/dist-packages (from pandas->gapminder) (1.18.5)\n",
            "Requirement already satisfied: python-dateutil>=2.7.3 in /usr/local/lib/python3.6/dist-packages (from pandas->gapminder) (2.8.1)\n",
            "Requirement already satisfied: pytz>=2017.2 in /usr/local/lib/python3.6/dist-packages (from pandas->gapminder) (2018.9)\n",
            "Requirement already satisfied: six>=1.5 in /usr/local/lib/python3.6/dist-packages (from python-dateutil>=2.7.3->pandas->gapminder) (1.15.0)\n",
            "League        AL        NL\n",
            "Year                      \n",
            "2010    0.402333  0.390250\n",
            "2011    0.406857  0.423333\n",
            "2012    0.382500  0.389833\n",
            "2013    0.407000  0.367333\n",
            "2014    0.388250  0.374833\n",
            "2015    0.373250  0.411500\n",
            "2016    0.376714  0.370667\n",
            "2017    0.412000  0.408667\n",
            "2018    0.398429  0.381000\n",
            "2019    0.400000  0.408000\n"
          ],
          "name": "stdout"
        },
        {
          "output_type": "execute_result",
          "data": {
            "text/plain": [
              "Text(0, 0.5, 'On-base Percentage')"
            ]
          },
          "metadata": {
            "tags": []
          },
          "execution_count": 76
        },
        {
          "output_type": "display_data",
          "data": {
            "image/png": "[encoded data removed]",
            "text/plain": [
              "<Figure size 432x288 with 1 Axes>"
            ]
          },
          "metadata": {
            "tags": [],
            "needs_background": "light"
          }
        }
      ]
    },
    {
      "cell_type": "markdown",
      "metadata": {
        "id": "dv4Ld5YTvEFY"
      },
      "source": [
        "In the following cell a couple of things were done:\n",
        "\n",
        "\n",
        "\n",
        "1.   A pivot table was created to display the Batting Average of top 10 players from 2010-2019 in both the American and National League.\n",
        "2.   A timeplot of the pivot table is graphed to show the year-to-year change of Batting Average.\n",
        "\n",
        "\n",
        "\n"
      ]
    },
    {
      "cell_type": "code",
      "metadata": {
        "id": "MqVlW0B6JLWx",
        "colab": {
          "base_uri": "https://localhost:8080/",
          "height": 500
        },
        "outputId": "c7658c2c-a6a2-4265-e839-843fa942fbdd"
      },
      "source": [
        "avg_pt=pd.pivot_table(df, values='AVG',\n",
        "                      index=['Year'],\n",
        "                      columns='League')\n",
        "print(avg_pt)\n",
        "\n",
        "plt.plot(avg_pt['AL'], label='AL AVG')\n",
        "plt.plot(avg_pt['NL'], label='NL AVG')\n",
        "plt.legend(loc='best')\n",
        "plt.xlabel('year')\n",
        "plt.ylabel('Batting Average')"
      ],
      "execution_count": null,
      "outputs": [
        {
          "output_type": "stream",
          "text": [
            "League        AL        NL\n",
            "Year                      \n",
            "2010    0.310000  0.303000\n",
            "2011    0.299143  0.308667\n",
            "2012    0.322500  0.314833\n",
            "2013    0.314500  0.302000\n",
            "2014    0.306000  0.297500\n",
            "2015    0.297250  0.312167\n",
            "2016    0.302143  0.296000\n",
            "2017    0.313500  0.305667\n",
            "2018    0.299857  0.310333\n",
            "2019    0.298143  0.321000\n"
          ],
          "name": "stdout"
        },
        {
          "output_type": "execute_result",
          "data": {
            "text/plain": [
              "Text(0, 0.5, 'Batting Average')"
            ]
          },
          "metadata": {
            "tags": []
          },
          "execution_count": 77
        },
        {
          "output_type": "display_data",
          "data": {
            "image/png": "[encoded data removed]",
            "text/plain": [
              "<Figure size 432x288 with 1 Axes>"
            ]
          },
          "metadata": {
            "tags": [],
            "needs_background": "light"
          }
        }
      ]
    },
    {
      "cell_type": "markdown",
      "metadata": {
        "id": "IFbNBpaTwRYX"
      },
      "source": [
        "Similar to the previous cell, I created:\n",
        "1.   A pivot table to display the Slugging% of top 10 players from 2010-2019 in both the American and National League.\n",
        "2.   A timeplot of the pivot table to show the year-to-year change of Slugging%."
      ]
    },
    {
      "cell_type": "code",
      "metadata": {
        "id": "OOs0Ubr0KInE",
        "colab": {
          "base_uri": "https://localhost:8080/",
          "height": 500
        },
        "outputId": "33c1857e-0483-4f55-98d3-0baa11d185d9"
      },
      "source": [
        "SLG_pt=pd.pivot_table(df, values='SLG',\n",
        "                      index=['Year'],\n",
        "                      columns='League')\n",
        "print(SLG_pt)\n",
        "\n",
        "plt.plot(SLG_pt['AL'], label='AL SLG')\n",
        "plt.plot(SLG_pt['NL'], label='NL SLG')\n",
        "plt.legend(loc='best')\n",
        "plt.xlabel('year')\n",
        "plt.ylabel('Slugging %')"
      ],
      "execution_count": null,
      "outputs": [
        {
          "output_type": "stream",
          "text": [
            "League        AL        NL\n",
            "Year                      \n",
            "2010    0.581167  0.598750\n",
            "2011    0.570571  0.560333\n",
            "2012    0.570250  0.531333\n",
            "2013    0.581500  0.479500\n",
            "2014    0.520750  0.500333\n",
            "2015    0.534250  0.536000\n",
            "2016    0.539429  0.500000\n",
            "2017    0.596500  0.566667\n",
            "2018    0.572571  0.557000\n",
            "2019    0.575286  0.630667\n"
          ],
          "name": "stdout"
        },
        {
          "output_type": "execute_result",
          "data": {
            "text/plain": [
              "Text(0, 0.5, 'Slugging %')"
            ]
          },
          "metadata": {
            "tags": []
          },
          "execution_count": 78
        },
        {
          "output_type": "display_data",
          "data": {
            "image/png": "[encoded data removed]",
            "text/plain": [
              "<Figure size 432x288 with 1 Axes>"
            ]
          },
          "metadata": {
            "tags": [],
            "needs_background": "light"
          }
        }
      ]
    },
    {
      "cell_type": "markdown",
      "metadata": {
        "id": "TIj75H1zyar9"
      },
      "source": [
        "Here I breakdown my previous dataframe into 10 different dataframes, each represeting a specific year. \n",
        "\n",
        "I then apply the describe function to summarize the central tendency, dispersion and shape of each year's newly created dataframe.\n",
        "\n",
        "\n",
        "*   Note: Years 2010-2018 are commented out, if wanted one can simply uncomment lines 5-39.\n",
        "\n",
        "\n"
      ]
    },
    {
      "cell_type": "code",
      "metadata": {
        "id": "g2SxKUgrmvYC",
        "colab": {
          "base_uri": "https://localhost:8080/"
        },
        "outputId": "7dd23b55-24e7-4a0f-bff6-75b67a7595db"
      },
      "source": [
        "# 2019\n",
        "df_19=df[df['Year']==2019]\n",
        "print(df_19.describe())\n",
        "# # 2018\n",
        "# df_18=df[df['Year']==2018]\n",
        "# # print(df_18.head())\n",
        "# print(df_18.describe())\n",
        "# # 2017\n",
        "# df_17=df[df['Year']==2017]\n",
        "# # print(df_17.head())\n",
        "# print(df_17.describe())\n",
        "# # 2016\n",
        "# df_16=df[df['Year']==2016]\n",
        "# # print(df_16.head())\n",
        "# print(df_16.describe())\n",
        "# # 2015\n",
        "# df_15=df[df['Year']==2015]\n",
        "# # print(df_15.head())\n",
        "# print(df_15.describe())\n",
        "# # 2014\n",
        "# df_14=df[df['Year']==2014]\n",
        "# # print(df_14.head())\n",
        "# print(df_14.describe())\n",
        "# # 2013\n",
        "# df_13=df[df['Year']==2013]\n",
        "# # print(df_13.head())\n",
        "# print(df_13.describe())\n",
        "# # 2012\n",
        "# df_12=df[df['Year']==2012]\n",
        "# # print(df_12.head())\n",
        "# print(df_12.describe())\n",
        "# # 2011\n",
        "# df_11=df[df['Year']==2011]\n",
        "# # print(df_11.head())\n",
        "# print(df_11.describe())\n",
        "# # 2010\n",
        "# df_10=df[df['Year']==2010]\n",
        "# # print(df_10.head())\n",
        "# print(df_10.describe())"
      ],
      "execution_count": null,
      "outputs": [
        {
          "output_type": "stream",
          "text": [
            "         Year       Games        AVG         wRC        WAR        OBP  \\\n",
            "count    10.0   10.000000  10.000000   10.000000  10.000000  10.000000   \n",
            "mean   2019.0  145.500000   0.305000  155.700000   7.430000   0.402400   \n",
            "std       0.0   13.040535   0.016021   15.442006   0.749889   0.022717   \n",
            "min    2019.0  122.000000   0.285000  135.000000   6.500000   0.369000   \n",
            "25%    2019.0  136.500000   0.292750  143.250000   6.850000   0.385250   \n",
            "50%    2019.0  148.000000   0.300500  155.000000   7.350000   0.398500   \n",
            "75%    2019.0  155.750000   0.316500  166.500000   7.800000   0.420250   \n",
            "max    2019.0  162.000000   0.329000  180.000000   8.600000   0.438000   \n",
            "\n",
            "             SLG  \n",
            "count  10.000000  \n",
            "mean    0.591900  \n",
            "std     0.048704  \n",
            "min     0.522000  \n",
            "25%     0.564000  \n",
            "50%     0.592000  \n",
            "75%     0.621250  \n",
            "max     0.671000  \n"
          ],
          "name": "stdout"
        }
      ]
    },
    {
      "cell_type": "markdown",
      "metadata": {
        "id": "EZkX0wI00Qzn"
      },
      "source": [
        "Lastly, I create a new dataframe that holds the means of Games, BA, wRC+, and WAR from the original dataframe.\n",
        "\n",
        "\n",
        "*   With this, one can get an idea of what the average top 10 player from 2010-2019 for a given year performed like. \n",
        "*   Using this, a team can get a better idea of what to expect from a Top 10 player when looking to sign a player of that caliber. \n",
        "\n"
      ]
    },
    {
      "cell_type": "code",
      "metadata": {
        "id": "f-Bv4-lcrZS3",
        "colab": {
          "base_uri": "https://localhost:8080/",
          "height": 359
        },
        "outputId": "af12128f-204b-4f17-927a-cb531c33dfc8"
      },
      "source": [
        "# !pip install gapminder\n",
        "from gapminder import gapminder\n",
        "import math\n",
        "import matplotlib.pyplot as plt\n",
        "\n",
        "df2=pd.DataFrame({'Year': [2019, 2018, 2017, 2016, 2015, 2014, 2013, 2012, 2011, 2010],\n",
        "                  'Games': [145.5, 148.8, 148.0, 156.4, 154.7, 150.8, 151.5, 153.1, 152.8, 150.7],\n",
        "                  'AVG': [0.305, 0.303, 0.308, 0.300, 0.306, 0.301, 0.307, 0.318, 0.302, 0.307],\n",
        "                  'wRC': [155.7, 156.0, 156.0, 141.5, 152.4, 148.6, 149.7, 152.9, 151.1, 149.6],\n",
        "                  'WAR': [7.43, 7.59, 6.92, 7.28, 7.42, 6.90, 7.69, 7.67, 7.52, 6.99]},\n",
        "               index= [1, 2, 3, 4, 5, 6, 7, 8, 9, 10])\n",
        "\n",
        "df2\n"
      ],
      "execution_count": null,
      "outputs": [
        {
          "output_type": "execute_result",
          "data": {
            "text/html": [
              "<div>\n",
              "<style scoped>\n",
              "    .dataframe tbody tr th:only-of-type {\n",
              "        vertical-align: middle;\n",
              "    }\n",
              "\n",
              "    .dataframe tbody tr th {\n",
              "        vertical-align: top;\n",
              "    }\n",
              "\n",
              "    .dataframe thead th {\n",
              "        text-align: right;\n",
              "    }\n",
              "</style>\n",
              "<table border=\"1\" class=\"dataframe\">\n",
              "  <thead>\n",
              "    <tr style=\"text-align: right;\">\n",
              "      <th></th>\n",
              "      <th>Year</th>\n",
              "      <th>Games</th>\n",
              "      <th>AVG</th>\n",
              "      <th>wRC</th>\n",
              "      <th>WAR</th>\n",
              "    </tr>\n",
              "  </thead>\n",
              "  <tbody>\n",
              "    <tr>\n",
              "      <th>1</th>\n",
              "      <td>2019</td>\n",
              "      <td>145.5</td>\n",
              "      <td>0.305</td>\n",
              "      <td>155.7</td>\n",
              "      <td>7.43</td>\n",
              "    </tr>\n",
              "    <tr>\n",
              "      <th>2</th>\n",
              "      <td>2018</td>\n",
              "      <td>148.8</td>\n",
              "      <td>0.303</td>\n",
              "      <td>156.0</td>\n",
              "      <td>7.59</td>\n",
              "    </tr>\n",
              "    <tr>\n",
              "      <th>3</th>\n",
              "      <td>2017</td>\n",
              "      <td>148.0</td>\n",
              "      <td>0.308</td>\n",
              "      <td>156.0</td>\n",
              "      <td>6.92</td>\n",
              "    </tr>\n",
              "    <tr>\n",
              "      <th>4</th>\n",
              "      <td>2016</td>\n",
              "      <td>156.4</td>\n",
              "      <td>0.300</td>\n",
              "      <td>141.5</td>\n",
              "      <td>7.28</td>\n",
              "    </tr>\n",
              "    <tr>\n",
              "      <th>5</th>\n",
              "      <td>2015</td>\n",
              "      <td>154.7</td>\n",
              "      <td>0.306</td>\n",
              "      <td>152.4</td>\n",
              "      <td>7.42</td>\n",
              "    </tr>\n",
              "    <tr>\n",
              "      <th>6</th>\n",
              "      <td>2014</td>\n",
              "      <td>150.8</td>\n",
              "      <td>0.301</td>\n",
              "      <td>148.6</td>\n",
              "      <td>6.90</td>\n",
              "    </tr>\n",
              "    <tr>\n",
              "      <th>7</th>\n",
              "      <td>2013</td>\n",
              "      <td>151.5</td>\n",
              "      <td>0.307</td>\n",
              "      <td>149.7</td>\n",
              "      <td>7.69</td>\n",
              "    </tr>\n",
              "    <tr>\n",
              "      <th>8</th>\n",
              "      <td>2012</td>\n",
              "      <td>153.1</td>\n",
              "      <td>0.318</td>\n",
              "      <td>152.9</td>\n",
              "      <td>7.67</td>\n",
              "    </tr>\n",
              "    <tr>\n",
              "      <th>9</th>\n",
              "      <td>2011</td>\n",
              "      <td>152.8</td>\n",
              "      <td>0.302</td>\n",
              "      <td>151.1</td>\n",
              "      <td>7.52</td>\n",
              "    </tr>\n",
              "    <tr>\n",
              "      <th>10</th>\n",
              "      <td>2010</td>\n",
              "      <td>150.7</td>\n",
              "      <td>0.307</td>\n",
              "      <td>149.6</td>\n",
              "      <td>6.99</td>\n",
              "    </tr>\n",
              "  </tbody>\n",
              "</table>\n",
              "</div>"
            ],
            "text/plain": [
              "    Year  Games    AVG    wRC   WAR\n",
              "1   2019  145.5  0.305  155.7  7.43\n",
              "2   2018  148.8  0.303  156.0  7.59\n",
              "3   2017  148.0  0.308  156.0  6.92\n",
              "4   2016  156.4  0.300  141.5  7.28\n",
              "5   2015  154.7  0.306  152.4  7.42\n",
              "6   2014  150.8  0.301  148.6  6.90\n",
              "7   2013  151.5  0.307  149.7  7.69\n",
              "8   2012  153.1  0.318  152.9  7.67\n",
              "9   2011  152.8  0.302  151.1  7.52\n",
              "10  2010  150.7  0.307  149.6  6.99"
            ]
          },
          "metadata": {
            "tags": []
          },
          "execution_count": 80
        }
      ]
    },
    {
      "cell_type": "code",
      "metadata": {
        "id": "kGIhQ9J82Asj"
      },
      "source": [
        ""
      ],
      "execution_count": null,
      "outputs": []
    }
  ]
}